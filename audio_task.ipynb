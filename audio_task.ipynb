{
 "cells": [
  {
   "cell_type": "markdown",
   "metadata": {},
   "source": [
    "# Preprocessing"
   ]
  },
  {
   "cell_type": "code",
   "execution_count": 1,
   "metadata": {},
   "outputs": [],
   "source": [
    "import numpy as np\n",
    "import matplotlib.pyplot as plt\n",
    "import cv2\n",
    "import os\n",
    "import librosa as lr"
   ]
  },
  {
   "cell_type": "code",
   "execution_count": 2,
   "metadata": {},
   "outputs": [],
   "source": [
    "data_folder = \"/Users/harsh/Downloads/Audio_1/LibriSpeech/\""
   ]
  },
  {
   "cell_type": "code",
   "execution_count": 3,
   "metadata": {},
   "outputs": [],
   "source": [
    "x=np.array(())\n",
    "y=np.array(())\n",
    "file = open(data_folder+'SPEAKERS.txt','r')\n",
    "for i in range(12):\n",
    "    file.readline()\n",
    "line = file.readline().split('|')\n",
    "Dict = {'F':0,'M':1}\n",
    "while (len(line)>1):\n",
    "    package = line[2].strip()\n",
    "    if(package=='dev-clean'):\n",
    "        y = np.append(y,Dict.get(line[1].strip()))\n",
    "        x = np.append(x,int(line[0].strip()))\n",
    "    line = file.readline().split('|')\n",
    "file.close() \n",
    "data = {}\n",
    "for i in range(len(x)):\n",
    "    data[int(x[i])] = np.array(())"
   ]
  },
  {
   "cell_type": "code",
   "execution_count": 4,
   "metadata": {},
   "outputs": [],
   "source": [
    "#y,x"
   ]
  },
  {
   "cell_type": "code",
   "execution_count": null,
   "metadata": {},
   "outputs": [],
   "source": []
  },
  {
   "cell_type": "code",
   "execution_count": 5,
   "metadata": {},
   "outputs": [],
   "source": [
    "#data = np.array(())"
   ]
  },
  {
   "cell_type": "code",
   "execution_count": 6,
   "metadata": {},
   "outputs": [],
   "source": [
    "#from progress.bar import Bar"
   ]
  },
  {
   "cell_type": "code",
   "execution_count": 7,
   "metadata": {},
   "outputs": [
    {
     "name": "stdout",
     "output_type": "stream",
     "text": [
      "0.5524861878453038\n",
      "1.1049723756906076\n",
      "1.6574585635359116\n",
      "2.209944751381215\n",
      "2.7624309392265194\n",
      "3.314917127071823\n",
      "3.867403314917127\n",
      "4.41988950276243\n",
      "4.972375690607735\n",
      "5.524861878453039\n",
      "6.077348066298343\n",
      "6.629834254143646\n",
      "7.18232044198895\n",
      "7.734806629834254\n",
      "8.287292817679557\n",
      "8.83977900552486\n",
      "9.392265193370166\n",
      "9.94475138121547\n",
      "10.497237569060774\n",
      "11.049723756906078\n",
      "11.602209944751381\n",
      "12.154696132596685\n",
      "12.70718232044199\n",
      "13.259668508287293\n",
      "13.812154696132598\n",
      "14.3646408839779\n",
      "14.917127071823206\n",
      "15.469613259668508\n",
      "16.022099447513813\n",
      "16.574585635359114\n",
      "17.12707182320442\n",
      "17.67955801104972\n",
      "18.23204419889503\n",
      "18.784530386740332\n",
      "19.337016574585636\n",
      "19.88950276243094\n",
      "20.441988950276244\n",
      "20.994475138121548\n",
      "21.54696132596685\n",
      "22.099447513812155\n",
      "22.65193370165746\n",
      "23.204419889502763\n",
      "23.756906077348066\n",
      "24.30939226519337\n",
      "24.861878453038674\n",
      "25.41436464088398\n",
      "25.96685082872928\n",
      "26.519337016574585\n",
      "27.071823204419886\n",
      "27.624309392265197\n",
      "28.176795580110497\n",
      "28.7292817679558\n",
      "29.2817679558011\n",
      "29.83425414364641\n",
      "30.386740331491712\n",
      "30.939226519337016\n",
      "31.491712707182316\n",
      "32.04419889502763\n",
      "32.59668508287293\n",
      "33.14917127071823\n",
      "33.70165745856354\n",
      "34.25414364640884\n",
      "34.806629834254146\n",
      "35.35911602209944\n",
      "35.91160220994475\n",
      "36.46408839779006\n",
      "37.01657458563536\n",
      "37.569060773480665\n",
      "38.12154696132597\n",
      "38.67403314917127\n",
      "39.226519337016576\n",
      "39.77900552486188\n",
      "40.331491712707184\n",
      "40.88397790055249\n",
      "41.43646408839779\n",
      "41.988950276243095\n",
      "42.5414364640884\n",
      "43.0939226519337\n",
      "43.646408839779006\n",
      "44.19889502762431\n",
      "44.751381215469614\n",
      "45.30386740331492\n",
      "45.85635359116022\n",
      "46.408839779005525\n",
      "46.96132596685083\n",
      "47.51381215469613\n",
      "48.06629834254144\n",
      "48.61878453038674\n",
      "49.171270718232044\n",
      "49.72375690607735\n",
      "50.27624309392266\n",
      "50.82872928176796\n",
      "51.38121546961326\n",
      "51.93370165745856\n",
      "52.48618784530387\n",
      "53.03867403314917\n",
      "53.591160220994475\n",
      "54.14364640883977\n",
      "54.69613259668509\n",
      "55.24861878453039\n",
      "55.80110497237569\n",
      "56.353591160220994\n",
      "56.9060773480663\n",
      "57.4585635359116\n",
      "58.011049723756905\n",
      "58.5635359116022\n",
      "59.11602209944752\n",
      "59.66850828729282\n",
      "60.22099447513812\n",
      "60.773480662983424\n",
      "61.32596685082873\n",
      "61.87845303867403\n",
      "62.430939226519335\n",
      "62.98342541436463\n",
      "63.53591160220995\n",
      "64.08839779005525\n",
      "64.64088397790056\n",
      "65.19337016574586\n",
      "65.74585635359117\n",
      "66.29834254143645\n",
      "66.85082872928176\n",
      "67.40331491712708\n",
      "67.95580110497238\n",
      "68.50828729281768\n",
      "69.06077348066299\n",
      "69.61325966850829\n",
      "70.1657458563536\n",
      "70.71823204419888\n",
      "71.27071823204419\n",
      "71.8232044198895\n",
      "72.37569060773481\n",
      "72.92817679558011\n",
      "73.48066298342542\n",
      "74.03314917127072\n",
      "74.58563535911603\n",
      "75.13812154696133\n",
      "75.69060773480662\n",
      "76.24309392265194\n",
      "76.79558011049724\n",
      "77.34806629834254\n",
      "77.90055248618785\n",
      "78.45303867403315\n",
      "79.00552486187846\n",
      "79.55801104972376\n",
      "80.11049723756905\n",
      "80.66298342541437\n",
      "81.21546961325967\n",
      "81.76795580110497\n",
      "82.32044198895028\n",
      "82.87292817679558\n",
      "83.42541436464089\n",
      "83.97790055248619\n",
      "84.5303867403315\n",
      "85.0828729281768\n",
      "85.6353591160221\n",
      "86.1878453038674\n",
      "86.74033149171271\n",
      "87.29281767955801\n",
      "87.84530386740332\n",
      "88.39779005524862\n",
      "88.95027624309392\n",
      "89.50276243093923\n",
      "90.05524861878453\n",
      "90.60773480662984\n",
      "91.16022099447514\n",
      "91.71270718232044\n",
      "92.26519337016575\n",
      "92.81767955801105\n",
      "93.37016574585635\n",
      "93.92265193370166\n",
      "94.47513812154696\n",
      "95.02762430939227\n",
      "95.58011049723757\n",
      "96.13259668508287\n",
      "96.68508287292818\n",
      "97.23756906077348\n",
      "97.79005524861878\n",
      "98.34254143646409\n",
      "98.89502762430939\n",
      "99.4475138121547\n",
      "100.0\n",
      "100.55248618784532\n",
      "101.10497237569061\n",
      "101.65745856353593\n",
      "102.20994475138122\n",
      "102.76243093922652\n",
      "103.31491712707181\n",
      "103.86740331491713\n",
      "104.41988950276244\n",
      "104.97237569060773\n",
      "105.52486187845305\n",
      "106.07734806629834\n",
      "106.62983425414365\n",
      "107.18232044198895\n",
      "107.73480662983425\n",
      "108.28729281767954\n",
      "108.83977900552486\n",
      "109.39226519337018\n",
      "109.94475138121547\n",
      "110.49723756906079\n",
      "111.04972375690608\n",
      "111.60220994475138\n",
      "112.15469613259668\n",
      "112.70718232044199\n",
      "113.2596685082873\n",
      "113.8121546961326\n",
      "114.36464088397791\n",
      "114.9171270718232\n",
      "115.4696132596685\n",
      "116.02209944751381\n",
      "116.57458563535911\n",
      "117.1270718232044\n",
      "117.67955801104972\n",
      "118.23204419889504\n",
      "118.78453038674033\n",
      "119.33701657458565\n",
      "119.88950276243094\n",
      "120.44198895027624\n",
      "120.99447513812154\n",
      "121.54696132596685\n",
      "122.09944751381217\n",
      "122.65193370165746\n",
      "123.20441988950277\n"
     ]
    }
   ],
   "source": [
    "j=0\n",
    "for subdirs,dirs,files in os.walk(data_folder+'dev-clean'):\n",
    "    for file in files:\n",
    "        if file.endswith('.flac'):\n",
    "            audio,sf = lr.load(subdirs+'/'+file)\n",
    "            data[int(subdirs.split('/')[-2])] = np.append(data[int(subdirs.split('/')[-2])],audio)    \n",
    "    j+=1\n",
    "    print(float(j)/181*100)\n",
    "            \n"
   ]
  },
  {
   "cell_type": "code",
   "execution_count": null,
   "metadata": {},
   "outputs": [],
   "source": []
  },
  {
   "cell_type": "code",
   "execution_count": 8,
   "metadata": {},
   "outputs": [],
   "source": [
    "#plt.plot(np.arange(0,len(data[x[1]]))/sf,data[x[1]])"
   ]
  },
  {
   "cell_type": "code",
   "execution_count": 9,
   "metadata": {},
   "outputs": [
    {
     "name": "stdout",
     "output_type": "stream",
     "text": [
      "2.5\n",
      "5.0\n",
      "7.5\n",
      "10.0\n",
      "12.5\n",
      "15.0\n",
      "17.5\n",
      "20.0\n",
      "22.5\n",
      "25.0\n",
      "27.500000000000004\n",
      "30.0\n",
      "32.5\n",
      "35.0\n",
      "37.5\n",
      "40.0\n",
      "42.5\n",
      "45.0\n",
      "47.5\n",
      "50.0\n",
      "52.5\n",
      "55.00000000000001\n",
      "57.49999999999999\n",
      "60.0\n",
      "62.5\n",
      "65.0\n",
      "67.5\n",
      "70.0\n",
      "72.5\n",
      "75.0\n",
      "77.5\n",
      "80.0\n",
      "82.5\n",
      "85.0\n",
      "87.5\n",
      "90.0\n",
      "92.5\n",
      "95.0\n",
      "97.5\n",
      "100.0\n"
     ]
    }
   ],
   "source": [
    "bins = 512\n",
    "data_seg = {}\n",
    "seg = 43*5\n",
    "fft = np.zeros((seg,bins//2),dtype='complex')\n",
    "for i in range(len(x)):\n",
    "    lfft = len(data[x[i]])//bins \n",
    "    data_seg[int(x[i])] = lfft//seg\n",
    "    l = 0\n",
    "    for k in range(lfft//seg):\n",
    "        while(l<seg*(k+1)):\n",
    "            fft[l%seg] = np.abs(np.fft.fftshift(np.fft.fft(data[x[i]][l*bins:(l+1)*bins]))[bins//2:])*2/bins\n",
    "            l+=1\n",
    "        fig = plt.figure(k,frameon=False)\n",
    "        ax = plt.Axes(fig, [0., 0., 1., 1.])\n",
    "        ax.set_axis_off()\n",
    "        fig.add_axes(ax)\n",
    "        ax.imshow(np.abs(fft.T),aspect='auto',clim=[0,5e-3],extent=[1,seg,bins//2,1])\n",
    "        ax.set_yscale('log')\n",
    "        if(y[i]==0):\n",
    "            fig.savefig(data_folder+'dev-clean/Spectrograms/Female/'+str(int(x[i]))+'_png/'+str(k)+'.png')\n",
    "        else:\n",
    "            fig.savefig(data_folder+'dev-clean/Spectrograms/Male/'+str(int(x[i]))+'_png/'+str(k)+'.png')\n",
    "        plt.close()\n",
    "    print(float(i+1)/len(x)*100)"
   ]
  },
  {
   "cell_type": "code",
   "execution_count": null,
   "metadata": {},
   "outputs": [],
   "source": []
  },
  {
   "cell_type": "code",
   "execution_count": 10,
   "metadata": {},
   "outputs": [],
   "source": [
    "#import cv2"
   ]
  },
  {
   "cell_type": "code",
   "execution_count": 11,
   "metadata": {},
   "outputs": [],
   "source": [
    "#for subdirs,dirs,files in os.walk(data_folder+'dev-clean'):\n",
    "#    for file in files:\n",
    "#        if file.endswith('.png'):\n",
    "#            image = cv2.imread(subdirs+'/'+file)\n",
    "            \n",
    "            #data[int(subdirs.split('/')[-2])] = np.append(data[int(subdirs.split('/')[-2])],audio)    "
   ]
  },
  {
   "cell_type": "markdown",
   "metadata": {},
   "source": [
    "# CNN"
   ]
  },
  {
   "cell_type": "code",
   "execution_count": 13,
   "metadata": {},
   "outputs": [],
   "source": [
    "from keras.preprocessing.image import ImageDataGenerator"
   ]
  },
  {
   "cell_type": "code",
   "execution_count": 12,
   "metadata": {},
   "outputs": [
    {
     "name": "stderr",
     "output_type": "stream",
     "text": [
      "Using TensorFlow backend.\n"
     ]
    }
   ],
   "source": [
    "from keras.models import Model\n",
    "from keras.layers import Input\n",
    "from keras.layers import Conv2D\n",
    "from keras.layers import MaxPooling2D\n",
    "from keras.layers import Flatten\n",
    "from keras.layers import Dense\n",
    "from keras.layers import Dropout"
   ]
  },
  {
   "cell_type": "code",
   "execution_count": 33,
   "metadata": {},
   "outputs": [
    {
     "name": "stdout",
     "output_type": "stream",
     "text": [
      "Found 11655 images belonging to 2 classes.\n",
      "Found 1294 images belonging to 2 classes.\n"
     ]
    }
   ],
   "source": [
    "train_gen = ImageDataGenerator(rescale=1./255,validation_split=0.1)\n",
    "train_set = train_gen.flow_from_directory(data_folder+'dev-clean/Spectrograms/',subset='training',target_size=(512,512),color_mode='rgb',class_mode='binary',batch_size=50)\n",
    "test_set = train_gen.flow_from_directory(data_folder+'dev-clean/Spectrograms/',subset='validation',target_size=(512,512),color_mode='rgb',class_mode='binary',batch_size=50)"
   ]
  },
  {
   "cell_type": "code",
   "execution_count": 42,
   "metadata": {},
   "outputs": [],
   "source": [
    "inpt = Input((512,512,3))"
   ]
  },
  {
   "cell_type": "code",
   "execution_count": 43,
   "metadata": {},
   "outputs": [],
   "source": [
    "c1 = Conv2D(8,(3,3),activation='relu',padding='same')(inpt)\n",
    "#c12 = Conv2D(8,(3,3),activation='relu',padding='same')(c1)\n",
    "m1 = MaxPooling2D((2,2))(c1)\n",
    "c2 = Conv2D(16,(3,3),activation='relu',padding='same')(m1)\n",
    "#c22 = Conv2D(16,(3,3),activation='relu',padding='same')(c2)\n",
    "m2 = MaxPooling2D((2,2))(c2)\n",
    "c3 = Conv2D(32,(3,3),activation='relu',padding='same')(m2)\n",
    "#c32 = Conv2D(32,(3,3),activation='relu',padding='same')(c3)\n",
    "m3 = MaxPooling2D((2,2))(c3)"
   ]
  },
  {
   "cell_type": "code",
   "execution_count": 44,
   "metadata": {},
   "outputs": [],
   "source": [
    "f = Flatten()(m3)"
   ]
  },
  {
   "cell_type": "code",
   "execution_count": 45,
   "metadata": {},
   "outputs": [
    {
     "name": "stderr",
     "output_type": "stream",
     "text": [
      "/usr/local/Cellar/ipython/6.5.0/libexec/vendor/lib/python3.7/site-packages/ipykernel_launcher.py:1: UserWarning: Update your `Dense` call to the Keras 2 API: `Dense(activation=\"relu\", units=64)`\n",
      "  \"\"\"Entry point for launching an IPython kernel.\n",
      "/usr/local/Cellar/ipython/6.5.0/libexec/vendor/lib/python3.7/site-packages/ipykernel_launcher.py:5: UserWarning: Update your `Dense` call to the Keras 2 API: `Dense(activation=\"sigmoid\", units=1)`\n",
      "  \"\"\"\n"
     ]
    }
   ],
   "source": [
    "d1 = Dense(output_dim=64,activation='relu')(f)\n",
    "#drp1 = Dropout(0.2)(d1)\n",
    "#d2 = Dense(output_dim=64,activation='relu')(d1)\n",
    "#drp2 = Dropout(0.5)(d2)\n",
    "outpt = Dense(output_dim=1,activation='sigmoid')(d1)"
   ]
  },
  {
   "cell_type": "code",
   "execution_count": 46,
   "metadata": {},
   "outputs": [],
   "source": [
    "model = Model(inpt,outpt)"
   ]
  },
  {
   "cell_type": "code",
   "execution_count": 47,
   "metadata": {},
   "outputs": [
    {
     "name": "stdout",
     "output_type": "stream",
     "text": [
      "_________________________________________________________________\n",
      "Layer (type)                 Output Shape              Param #   \n",
      "=================================================================\n",
      "input_4 (InputLayer)         (None, 512, 512, 3)       0         \n",
      "_________________________________________________________________\n",
      "conv2d_9 (Conv2D)            (None, 512, 512, 8)       224       \n",
      "_________________________________________________________________\n",
      "max_pooling2d_9 (MaxPooling2 (None, 256, 256, 8)       0         \n",
      "_________________________________________________________________\n",
      "conv2d_10 (Conv2D)           (None, 256, 256, 16)      1168      \n",
      "_________________________________________________________________\n",
      "max_pooling2d_10 (MaxPooling (None, 128, 128, 16)      0         \n",
      "_________________________________________________________________\n",
      "conv2d_11 (Conv2D)           (None, 128, 128, 32)      4640      \n",
      "_________________________________________________________________\n",
      "max_pooling2d_11 (MaxPooling (None, 64, 64, 32)        0         \n",
      "_________________________________________________________________\n",
      "flatten_4 (Flatten)          (None, 131072)            0         \n",
      "_________________________________________________________________\n",
      "dense_6 (Dense)              (None, 64)                8388672   \n",
      "_________________________________________________________________\n",
      "dense_7 (Dense)              (None, 1)                 65        \n",
      "=================================================================\n",
      "Total params: 8,394,769\n",
      "Trainable params: 8,394,769\n",
      "Non-trainable params: 0\n",
      "_________________________________________________________________\n"
     ]
    }
   ],
   "source": [
    "model.summary()"
   ]
  },
  {
   "cell_type": "code",
   "execution_count": 50,
   "metadata": {},
   "outputs": [],
   "source": [
    "model.compile(optimizer='rmsprop',loss='binary_crossentropy',metrics=['acc'])"
   ]
  },
  {
   "cell_type": "code",
   "execution_count": 51,
   "metadata": {},
   "outputs": [
    {
     "name": "stdout",
     "output_type": "stream",
     "text": [
      "Epoch 1/3\n",
      "220/220 [==============================] - 1418s 6s/step - loss: 0.1162 - acc: 0.9610 - val_loss: 0.3963 - val_acc: 0.8473\n",
      "Epoch 2/3\n",
      "220/220 [==============================] - 1405s 6s/step - loss: 0.0551 - acc: 0.9800 - val_loss: 0.4723 - val_acc: 0.8410\n",
      "Epoch 3/3\n",
      "220/220 [==============================] - 1408s 6s/step - loss: 0.0411 - acc: 0.9886 - val_loss: 0.5046 - val_acc: 0.8812\n"
     ]
    },
    {
     "data": {
      "text/plain": [
       "<keras.callbacks.History at 0x173d54198>"
      ]
     },
     "execution_count": 51,
     "metadata": {},
     "output_type": "execute_result"
    }
   ],
   "source": [
    "model.fit_generator(train_set,steps_per_epoch=220,epochs=3,validation_data=test_set,validation_steps=22)"
   ]
  },
  {
   "cell_type": "code",
   "execution_count": 52,
   "metadata": {},
   "outputs": [],
   "source": [
    "model.save_weights('audio_cnn.h5')"
   ]
  },
  {
   "cell_type": "code",
   "execution_count": 53,
   "metadata": {},
   "outputs": [],
   "source": [
    "test_audio,sf = lr.load('/Users/harsh/Downloads/Audio_1/sample_debate.mp3')"
   ]
  },
  {
   "cell_type": "code",
   "execution_count": 54,
   "metadata": {},
   "outputs": [
    {
     "name": "stdout",
     "output_type": "stream",
     "text": [
      "0.0\n",
      "0.5747126436781609\n",
      "1.1494252873563218\n",
      "1.7241379310344827\n",
      "2.2988505747126435\n",
      "2.8735632183908044\n",
      "3.4482758620689653\n",
      "4.022988505747127\n",
      "4.597701149425287\n",
      "5.172413793103448\n",
      "5.747126436781609\n",
      "6.321839080459771\n",
      "6.896551724137931\n",
      "7.471264367816093\n",
      "8.045977011494253\n",
      "8.620689655172415\n",
      "9.195402298850574\n",
      "9.770114942528735\n",
      "10.344827586206897\n",
      "10.919540229885058\n",
      "11.494252873563218\n",
      "12.068965517241379\n",
      "12.643678160919542\n",
      "13.218390804597702\n",
      "13.793103448275861\n",
      "14.367816091954023\n",
      "14.942528735632186\n",
      "15.517241379310345\n",
      "16.091954022988507\n",
      "16.666666666666664\n",
      "17.24137931034483\n",
      "17.81609195402299\n",
      "18.39080459770115\n",
      "18.96551724137931\n",
      "19.54022988505747\n",
      "20.114942528735632\n",
      "20.689655172413794\n",
      "21.26436781609195\n",
      "21.839080459770116\n",
      "22.413793103448278\n",
      "22.988505747126435\n",
      "23.563218390804597\n",
      "24.137931034482758\n",
      "24.71264367816092\n",
      "25.287356321839084\n",
      "25.862068965517242\n",
      "26.436781609195403\n",
      "27.011494252873565\n",
      "27.586206896551722\n",
      "28.160919540229884\n",
      "28.735632183908045\n",
      "29.310344827586203\n",
      "29.88505747126437\n",
      "30.45977011494253\n",
      "31.03448275862069\n",
      "31.60919540229885\n",
      "32.18390804597701\n",
      "32.758620689655174\n",
      "33.33333333333333\n",
      "33.90804597701149\n",
      "34.48275862068966\n",
      "35.05747126436782\n",
      "35.63218390804598\n",
      "36.206896551724135\n",
      "36.7816091954023\n",
      "37.35632183908046\n",
      "37.93103448275862\n",
      "38.50574712643678\n",
      "39.08045977011494\n",
      "39.6551724137931\n",
      "40.229885057471265\n",
      "40.804597701149426\n",
      "41.37931034482759\n",
      "41.95402298850575\n",
      "42.5287356321839\n",
      "43.103448275862064\n",
      "43.67816091954023\n",
      "44.252873563218394\n",
      "44.827586206896555\n",
      "45.40229885057471\n",
      "45.97701149425287\n",
      "46.55172413793103\n",
      "47.12643678160919\n",
      "47.701149425287355\n",
      "48.275862068965516\n",
      "48.85057471264368\n",
      "49.42528735632184\n",
      "50.0\n",
      "50.57471264367817\n",
      "51.14942528735632\n",
      "51.724137931034484\n",
      "52.29885057471264\n",
      "52.87356321839081\n",
      "53.44827586206896\n",
      "54.02298850574713\n",
      "54.59770114942529\n",
      "55.172413793103445\n",
      "55.74712643678161\n",
      "56.32183908045977\n",
      "56.896551724137936\n",
      "57.47126436781609\n",
      "58.04597701149425\n",
      "58.620689655172406\n",
      "59.195402298850574\n",
      "59.77011494252874\n",
      "60.3448275862069\n",
      "60.91954022988506\n",
      "61.49425287356321\n",
      "62.06896551724138\n",
      "62.643678160919535\n",
      "63.2183908045977\n",
      "63.793103448275865\n",
      "64.36781609195403\n",
      "64.9425287356322\n",
      "65.51724137931035\n",
      "66.0919540229885\n",
      "66.66666666666666\n",
      "67.24137931034483\n",
      "67.81609195402298\n",
      "68.39080459770115\n",
      "68.96551724137932\n",
      "69.54022988505747\n",
      "70.11494252873564\n",
      "70.6896551724138\n",
      "71.26436781609196\n",
      "71.83908045977012\n",
      "72.41379310344827\n",
      "72.98850574712644\n",
      "73.5632183908046\n",
      "74.13793103448276\n",
      "74.71264367816092\n",
      "75.28735632183908\n",
      "75.86206896551724\n",
      "76.4367816091954\n",
      "77.01149425287356\n",
      "77.58620689655173\n",
      "78.16091954022988\n",
      "78.73563218390804\n",
      "79.3103448275862\n",
      "79.88505747126436\n",
      "80.45977011494253\n",
      "81.03448275862068\n",
      "81.60919540229885\n",
      "82.18390804597702\n",
      "82.75862068965517\n",
      "83.33333333333334\n",
      "83.9080459770115\n",
      "84.48275862068965\n",
      "85.0574712643678\n",
      "85.63218390804597\n",
      "86.20689655172413\n",
      "86.7816091954023\n",
      "87.35632183908046\n",
      "87.93103448275862\n",
      "88.50574712643679\n",
      "89.08045977011494\n",
      "89.65517241379311\n",
      "90.22988505747126\n",
      "90.80459770114942\n",
      "91.37931034482759\n",
      "91.95402298850574\n",
      "92.52873563218391\n",
      "93.10344827586206\n",
      "93.67816091954023\n",
      "94.25287356321839\n",
      "94.82758620689656\n",
      "95.40229885057471\n",
      "95.97701149425288\n",
      "96.55172413793103\n",
      "97.12643678160919\n",
      "97.70114942528735\n",
      "98.27586206896551\n",
      "98.85057471264368\n",
      "99.42528735632183\n"
     ]
    }
   ],
   "source": [
    "bins = 1024\n",
    "seg = 43*5\n",
    "fft = np.zeros((seg,bins//2),dtype='complex')\n",
    "lfft = len(test_audio)//bins \n",
    "l = 0\n",
    "for k in range(lfft//seg):\n",
    "    while(l<seg*(k+1)):\n",
    "        fft[l%seg] = np.abs(np.fft.fftshift(np.fft.fft(test_audio[l*bins:(l+1)*bins]))[bins//2:])*2/bins\n",
    "        l+=1\n",
    "    fig = plt.figure(k,frameon=False)\n",
    "    ax = plt.Axes(fig, [0., 0., 1., 1.])\n",
    "    ax.set_axis_off()\n",
    "    fig.add_axes(ax)\n",
    "    ax.imshow(np.abs(fft.T),aspect='auto',clim=[0,5e-3],extent=[1,seg,256,1])\n",
    "    ax.set_yscale('log')\n",
    "    fig.savefig('/Users/harsh/Downloads/Audio_1/sample_debate_png/'+str(k)+'.png')\n",
    "    print(float(k+1)/(lfft//seg)*100)\n",
    "    plt.close()"
   ]
  },
  {
   "cell_type": "code",
   "execution_count": 55,
   "metadata": {},
   "outputs": [
    {
     "data": {
      "text/plain": [
       "{'Female': 0, 'Male': 1}"
      ]
     },
     "execution_count": 55,
     "metadata": {},
     "output_type": "execute_result"
    }
   ],
   "source": [
    "train_set.class_indices"
   ]
  },
  {
   "cell_type": "code",
   "execution_count": 56,
   "metadata": {},
   "outputs": [],
   "source": [
    "pred_map = {0:'Female',1:'Male'}"
   ]
  },
  {
   "cell_type": "code",
   "execution_count": 59,
   "metadata": {},
   "outputs": [],
   "source": [
    "ftxt = open('/Users/harsh/Downloads/Audio_1/sample_debate_png/prediction.txt','w+')\n",
    "for i in range(lfft//seg):\n",
    "    pred_img = cv2.imread('/Users/harsh/Downloads/Audio_1/sample_debate_png/'+str(i)+'.png')\n",
    "    pred_img = cv2.resize(pred_img,(512,512))\n",
    "    pred_img = pred_img/255\n",
    "    pred_img = np.expand_dims(pred_img,axis=0)\n",
    "    pred = model.predict(pred_img)\n",
    "    pred = 1 if(pred>0.5) else 0\n",
    "    ftxt.write(str(i)+' : '+pred_map.get(pred)+'\\n')  \n",
    "#pred\n",
    "ftxt.close()\n",
    "    "
   ]
  },
  {
   "cell_type": "code",
   "execution_count": null,
   "metadata": {},
   "outputs": [],
   "source": []
  }
 ],
 "metadata": {
  "kernelspec": {
   "display_name": "Python 3",
   "language": "python",
   "name": "python3"
  },
  "language_info": {
   "codemirror_mode": {
    "name": "ipython",
    "version": 3
   },
   "file_extension": ".py",
   "mimetype": "text/x-python",
   "name": "python",
   "nbconvert_exporter": "python",
   "pygments_lexer": "ipython3",
   "version": "3.7.0"
  }
 },
 "nbformat": 4,
 "nbformat_minor": 2
}
