{
 "cells": [
  {
   "cell_type": "markdown",
   "metadata": {},
   "source": [
    "# Preprocessing"
   ]
  },
  {
   "cell_type": "code",
   "execution_count": 26,
   "metadata": {},
   "outputs": [],
   "source": [
    "import numpy as np\n",
    "import matplotlib.pyplot as plt\n",
    "import cv2\n",
    "import os\n",
    "import librosa as lr\n",
    "from tqdm import tqdm\n",
    "import random\n",
    "from keras.preprocessing.image import ImageDataGenerator\n",
    "from keras.models import Model\n",
    "from keras.layers import Input\n",
    "from keras.layers import Conv2D\n",
    "from keras.layers import MaxPooling2D\n",
    "from keras.layers import Flatten\n",
    "from keras.layers import Dense\n",
    "from keras.layers import Dropout\n",
    "from sklearn.cluster import KMeans\n",
    "from sklearn.model_selection import train_test_split\n",
    "from sklearn.preprocessing import StandardScaler\n",
    "from sklearn.svm import SVC"
   ]
  },
  {
   "cell_type": "code",
   "execution_count": 31,
   "metadata": {},
   "outputs": [],
   "source": [
    "data_folder = \"/Users/harsh/Downloads/Audio_1/LibriSpeech/\""
   ]
  },
  {
   "cell_type": "code",
   "execution_count": 33,
   "metadata": {},
   "outputs": [],
   "source": [
    "x=np.array((),dtype='int32')\n",
    "y=np.array((),dtype='int32')\n",
    "file = open(data_folder+'SPEAKERS.txt','r')\n",
    "for i in range(12):\n",
    "    file.readline()\n",
    "line = file.readline().split('|')\n",
    "Dict = {'F':0,'M':1}\n",
    "while (len(line)>1):\n",
    "    package = line[2].strip()\n",
    "    if(package=='dev-clean'):\n",
    "        y = np.append(y,Dict.get(line[1].strip()))\n",
    "        x = np.append(x,int(line[0].strip()))\n",
    "    line = file.readline().split('|')\n",
    "file.close() \n",
    "data = {}\n",
    "for i in range(len(x)):\n",
    "    data[int(x[i])] = np.array(())"
   ]
  },
  {
   "cell_type": "code",
   "execution_count": 63,
   "metadata": {},
   "outputs": [
    {
     "data": {
      "text/plain": [
       "(array([0., 1., 1., 1., 1., 1., 1., 0., 0., 0., 0., 0., 0., 0., 1., 0., 0.,\n",
       "        1., 1., 1., 1., 0., 1., 0., 0., 1., 0., 0., 1., 1., 0., 1., 1., 0.,\n",
       "        0., 0., 0., 0., 1., 0.]),\n",
       " array([  84.,  174.,  251.,  422.,  652.,  777., 1272., 1462., 1673.,\n",
       "        1919., 1988., 1993., 2035., 2078., 2086., 2277., 2412., 2428.,\n",
       "        2803., 2902., 3000., 3081., 3170., 3536., 3576., 3752., 3853.,\n",
       "        5338., 5536., 5694., 5895., 6241., 6295., 6313., 6319., 6345.,\n",
       "        7850., 7976., 8297., 8842.]))"
      ]
     },
     "execution_count": 63,
     "metadata": {},
     "output_type": "execute_result"
    }
   ],
   "source": [
    "#y,x"
   ]
  },
  {
   "cell_type": "code",
   "execution_count": 34,
   "metadata": {},
   "outputs": [],
   "source": [
    "dict_y = dict(zip(x,y))"
   ]
  },
  {
   "cell_type": "code",
   "execution_count": null,
   "metadata": {},
   "outputs": [],
   "source": [
    "# dict_y"
   ]
  },
  {
   "cell_type": "code",
   "execution_count": null,
   "metadata": {},
   "outputs": [],
   "source": [
    "t_j = 0\n",
    "j = 0\n",
    "for subdirs,dirs,files in os.walk(data_folder+'dev-clean'):\n",
    "    t_j+=1\n",
    "for subdirs,dirs,files in os.walk(data_folder+'dev-clean'):\n",
    "    for file in files:\n",
    "        if file.endswith('.flac'):\n",
    "            audio,sf = lr.load(subdirs+'/'+file)\n",
    "            data[int(subdirs.split('/')[-2])] = np.append(data[int(subdirs.split('/')[-2])],audio)    \n",
    "    j+=1\n",
    "#     print(float(j)/t_j*100)"
   ]
  },
  {
   "cell_type": "code",
   "execution_count": 8,
   "metadata": {},
   "outputs": [],
   "source": [
    "#plt.plot(np.arange(0,len(data[x[1]]))/sf,data[x[1]])"
   ]
  },
  {
   "cell_type": "markdown",
   "metadata": {},
   "source": [
    "## Mel Filterbanks (not MFCC)"
   ]
  },
  {
   "cell_type": "code",
   "execution_count": 66,
   "metadata": {},
   "outputs": [
    {
     "name": "stdout",
     "output_type": "stream",
     "text": [
      "17.5\n"
     ]
    }
   ],
   "source": [
    "seg = 550      #0.025*sf\n",
    "log_en = np.zeros((100,26))\n",
    "for i in range(len(x)):\n",
    "    l = 0\n",
    "    ctr = 0\n",
    "    while(l<len(data.get(x[i]))):\n",
    "        pow_spec = (np.abs(np.fft.fftshift(np.fft.fft(data.get(x[i])[l:l+seg],512))[:257])**2)/seg\n",
    "        mfb = lr.filters.mel(sr=22050,n_fft=512,n_mels=26)\n",
    "        energy = np.matmul(mfb,pow_spec)\n",
    "        energy = np.where(energy == 0, np.finfo(float).eps, energy)\n",
    "        log_en[ctr%100] = 20*np.log10(energy)\n",
    "        if(ctr%100==99):\n",
    "            fig = plt.figure(ctr,frameon=False)\n",
    "            ax = plt.Axes(fig, [0., 0., 1., 1.])\n",
    "            ax.set_axis_off()\n",
    "            fig.add_axes(ax)\n",
    "            ax.imshow(log_en,aspect='auto')\n",
    "            fig.savefig(data_folder+'dev-clean/Spectrograms/'+str(int(x[i]))+'_png/'+str(ctr//100)+'.png')\n",
    "            plt.close()\n",
    "        ctr += 1\n",
    "        l += 220\n",
    "        #print(float(l+1)/len(data.get(x[i]))*100)\n",
    "    print(float(i+1)/len(x)*100)"
   ]
  },
  {
   "cell_type": "markdown",
   "metadata": {},
   "source": [
    "# CNN"
   ]
  },
  {
   "cell_type": "markdown",
   "metadata": {},
   "source": [
    "## DataGenerator"
   ]
  },
  {
   "cell_type": "code",
   "execution_count": 67,
   "metadata": {},
   "outputs": [
    {
     "name": "stdout",
     "output_type": "stream",
     "text": [
      "Found 17493 images belonging to 40 classes.\n",
      "Found 1928 images belonging to 40 classes.\n"
     ]
    }
   ],
   "source": [
    "im_size = 256\n",
    "train_gen = ImageDataGenerator(rescale=1./255,validation_split=0.1)\n",
    "train_set = train_gen.flow_from_directory(data_folder+'dev-clean/Spectrograms/',subset='training',target_size=(im_size,im_size),color_mode='rgb',class_mode='categorical',batch_size=50)\n",
    "test_set = train_gen.flow_from_directory(data_folder+'dev-clean/Spectrograms/',subset='validation',target_size=(im_size,im_size),color_mode='rgb',class_mode='categorical',batch_size=50)\n"
   ]
  },
  {
   "cell_type": "markdown",
   "metadata": {},
   "source": [
    "## Feature Layers"
   ]
  },
  {
   "cell_type": "code",
   "execution_count": 14,
   "metadata": {},
   "outputs": [],
   "source": [
    "im_size = 256\n",
    "inpt = Input((im_size,im_size,3))"
   ]
  },
  {
   "cell_type": "code",
   "execution_count": 15,
   "metadata": {},
   "outputs": [],
   "source": [
    "c1 = Conv2D(8,(3,3),activation='relu',padding='same')(inpt)\n",
    "#c12 = Conv2D(8,(3,3),activation='relu',padding='same')(c1)\n",
    "m1 = MaxPooling2D((2,2))(c1)\n",
    "c2 = Conv2D(16,(3,3),activation='relu',padding='same')(m1)\n",
    "#c22 = Conv2D(16,(3,3),activation='relu',padding='same')(c2)\n",
    "m2 = MaxPooling2D((2,2))(c2)\n",
    "#c3 = Conv2D(32,(3,3),activation='relu',padding='same')(m2)\n",
    "#c32 = Conv2D(32,(3,3),activation='relu',padding='same')(c3)\n",
    "#m3 = MaxPooling2D((2,2))(c3)"
   ]
  },
  {
   "cell_type": "code",
   "execution_count": 16,
   "metadata": {},
   "outputs": [],
   "source": [
    "f = Flatten()(m2)"
   ]
  },
  {
   "cell_type": "markdown",
   "metadata": {},
   "source": [
    "## Classifier Layers"
   ]
  },
  {
   "cell_type": "code",
   "execution_count": 17,
   "metadata": {},
   "outputs": [],
   "source": [
    "#d1 = Dense(64,activation='relu')(f)\n",
    "#drp1 = Dropout(0.2)(d1)\n",
    "#d2 = Dense(64,activation='relu')(d1)\n",
    "#drp2 = Dropout(0.5)(d2)\n",
    "outpt = Dense(40,activation='softmax')(f)"
   ]
  },
  {
   "cell_type": "code",
   "execution_count": 18,
   "metadata": {},
   "outputs": [],
   "source": [
    "model = Model(inpt,outpt)"
   ]
  },
  {
   "cell_type": "code",
   "execution_count": 73,
   "metadata": {},
   "outputs": [
    {
     "name": "stdout",
     "output_type": "stream",
     "text": [
      "_________________________________________________________________\n",
      "Layer (type)                 Output Shape              Param #   \n",
      "=================================================================\n",
      "input_6 (InputLayer)         (None, 256, 256, 3)       0         \n",
      "_________________________________________________________________\n",
      "conv2d_11 (Conv2D)           (None, 256, 256, 8)       224       \n",
      "_________________________________________________________________\n",
      "max_pooling2d_11 (MaxPooling (None, 128, 128, 8)       0         \n",
      "_________________________________________________________________\n",
      "conv2d_12 (Conv2D)           (None, 128, 128, 16)      1168      \n",
      "_________________________________________________________________\n",
      "max_pooling2d_12 (MaxPooling (None, 64, 64, 16)        0         \n",
      "_________________________________________________________________\n",
      "flatten_6 (Flatten)          (None, 65536)             0         \n",
      "_________________________________________________________________\n",
      "dense_7 (Dense)              (None, 40)                2621480   \n",
      "=================================================================\n",
      "Total params: 2,622,872\n",
      "Trainable params: 2,622,872\n",
      "Non-trainable params: 0\n",
      "_________________________________________________________________\n"
     ]
    }
   ],
   "source": [
    "model.summary()"
   ]
  },
  {
   "cell_type": "markdown",
   "metadata": {},
   "source": [
    "## Training"
   ]
  },
  {
   "cell_type": "code",
   "execution_count": 19,
   "metadata": {},
   "outputs": [],
   "source": [
    "model.compile(optimizer='rmsprop',loss='categorical_crossentropy',metrics=['acc'])"
   ]
  },
  {
   "cell_type": "code",
   "execution_count": 75,
   "metadata": {},
   "outputs": [
    {
     "name": "stdout",
     "output_type": "stream",
     "text": [
      "Epoch 1/10\n",
      "220/220 [==============================] - 344s 2s/step - loss: 3.4582 - acc: 0.1403 - val_loss: 2.9661 - val_acc: 0.2000\n",
      "Epoch 2/10\n",
      "220/220 [==============================] - 306s 1s/step - loss: 2.6626 - acc: 0.2714 - val_loss: 2.6078 - val_acc: 0.2987\n",
      "Epoch 3/10\n",
      "220/220 [==============================] - 278s 1s/step - loss: 2.2486 - acc: 0.3803 - val_loss: 2.2295 - val_acc: 0.3755\n",
      "Epoch 4/10\n",
      "220/220 [==============================] - 275s 1s/step - loss: 1.8100 - acc: 0.4943 - val_loss: 2.0556 - val_acc: 0.4193\n",
      "Epoch 5/10\n",
      "220/220 [==============================] - 277s 1s/step - loss: 1.5486 - acc: 0.5595 - val_loss: 1.8595 - val_acc: 0.4718\n",
      "Epoch 6/10\n",
      "220/220 [==============================] - 289s 1s/step - loss: 1.2897 - acc: 0.6248 - val_loss: 1.7136 - val_acc: 0.5232\n",
      "Epoch 7/10\n",
      "220/220 [==============================] - 325s 1s/step - loss: 1.0920 - acc: 0.6834 - val_loss: 1.6095 - val_acc: 0.5418\n",
      "Epoch 8/10\n",
      "220/220 [==============================] - 303s 1s/step - loss: 1.0478 - acc: 0.6949 - val_loss: 1.6474 - val_acc: 0.5260\n",
      "Epoch 9/10\n",
      "220/220 [==============================] - 303s 1s/step - loss: 0.8713 - acc: 0.7425 - val_loss: 1.5641 - val_acc: 0.5622\n",
      "Epoch 10/10\n",
      "220/220 [==============================] - 287s 1s/step - loss: 0.8088 - acc: 0.7657 - val_loss: 1.6873 - val_acc: 0.5600\n"
     ]
    },
    {
     "data": {
      "text/plain": [
       "<keras.callbacks.History at 0x683a8eda0>"
      ]
     },
     "execution_count": 75,
     "metadata": {},
     "output_type": "execute_result"
    }
   ],
   "source": [
    "model.fit_generator(train_set,steps_per_epoch=220,epochs=10,validation_data=test_set,validation_steps=22)"
   ]
  },
  {
   "cell_type": "code",
   "execution_count": 76,
   "metadata": {},
   "outputs": [],
   "source": [
    "model.save_weights('audio_cnn2.h5')"
   ]
  },
  {
   "cell_type": "markdown",
   "metadata": {},
   "source": [
    "## Testing"
   ]
  },
  {
   "cell_type": "code",
   "execution_count": 77,
   "metadata": {},
   "outputs": [],
   "source": [
    "test_audio,sf = lr.load('/Users/harsh/Downloads/Audio_1/sample_debate.mp3')"
   ]
  },
  {
   "cell_type": "code",
   "execution_count": null,
   "metadata": {},
   "outputs": [],
   "source": [
    "seg = 550      #0.025*sf\n",
    "log_en = np.zeros((100,26))\n",
    "l = 0\n",
    "ctr = 0\n",
    "while(l<len(test_audio)):\n",
    "    pow_spec = (np.abs(np.fft.fftshift(np.fft.fft(test_audio[l:l+seg],512))[:257])**2)/seg\n",
    "    mfb = lr.filters.mel(sr=22050,n_fft=512,n_mels=26)\n",
    "    energy = np.matmul(mfb,pow_spec)\n",
    "    energy = np.where(energy == 0, np.finfo(float).eps, energy)\n",
    "    log_en[ctr%100] = 20*np.log10(energy)\n",
    "    if(ctr%100==99):\n",
    "        fig = plt.figure(ctr,frameon=False)\n",
    "        ax = plt.Axes(fig, [0., 0., 1., 1.])\n",
    "        ax.set_axis_off()\n",
    "        fig.add_axes(ax)\n",
    "        ax.imshow(log_en,aspect='auto')\n",
    "        fig.savefig('/Users/harsh/Downloads/Audio_1/sample_debate_png/'+str(ctr//100)+'.png')\n",
    "        plt.close()\n",
    "    #print(float(l+1)/len(test_audio)*100)\n",
    "    ctr += 1\n",
    "    l += 220"
   ]
  },
  {
   "cell_type": "code",
   "execution_count": null,
   "metadata": {},
   "outputs": [],
   "source": [
    "train_set.class_indices"
   ]
  },
  {
   "cell_type": "code",
   "execution_count": 80,
   "metadata": {},
   "outputs": [],
   "source": [
    "#pred_map = {0:'Female',1:'Male'}"
   ]
  },
  {
   "cell_type": "code",
   "execution_count": 84,
   "metadata": {},
   "outputs": [
    {
     "data": {
      "text/plain": [
       "174311"
      ]
     },
     "execution_count": 84,
     "metadata": {},
     "output_type": "execute_result"
    }
   ],
   "source": [
    "#ctr"
   ]
  },
  {
   "cell_type": "code",
   "execution_count": 86,
   "metadata": {},
   "outputs": [],
   "source": [
    "ftxt = open('/Users/harsh/Downloads/Audio_1/sample_debate_png/prediction.txt','w+')\n",
    "for i in range(ctr//100):\n",
    "    pred_img = cv2.imread('/Users/harsh/Downloads/Audio_1/sample_debate_png/'+str(i)+'.png')\n",
    "    pred_img = cv2.resize(pred_img,(im_size,im_size))\n",
    "    pred_img = pred_img/255\n",
    "    pred_img = np.expand_dims(pred_img,axis=0)\n",
    "    pred = model.predict(pred_img)\n",
    "    #pred = 1 if(pred>0.5) else 0\n",
    "    ftxt.write(str(i)+' : '+str(np.argmax(pred))+'\\n')  \n",
    "#pred\n",
    "ftxt.close()\n",
    "    "
   ]
  },
  {
   "cell_type": "markdown",
   "metadata": {},
   "source": [
    "# Transfer Learning"
   ]
  },
  {
   "cell_type": "code",
   "execution_count": 21,
   "metadata": {},
   "outputs": [],
   "source": [
    "model.load_weights('audio_cnn2.h5')"
   ]
  },
  {
   "cell_type": "code",
   "execution_count": 23,
   "metadata": {},
   "outputs": [],
   "source": [
    "model2 = Model(inpt,f)"
   ]
  },
  {
   "cell_type": "code",
   "execution_count": 27,
   "metadata": {},
   "outputs": [],
   "source": [
    "ctr = 174300\n",
    "features = []\n",
    "for i in range(ctr//100):\n",
    "    pred_img = cv2.imread('/Users/harsh/Downloads/Audio_1/sample_debate_png/'+str(i)+'.png')\n",
    "    pred_img = cv2.resize(pred_img,(im_size,im_size))\n",
    "    pred_img = pred_img/255\n",
    "    pred_img = np.expand_dims(pred_img,axis=0)\n",
    "    #pred = model.predict(pred_img)\n",
    "    features.append(model2.predict(pred_img))"
   ]
  },
  {
   "cell_type": "code",
   "execution_count": 28,
   "metadata": {},
   "outputs": [],
   "source": [
    "features = np.array(features).reshape(len(features),-1)"
   ]
  },
  {
   "cell_type": "code",
   "execution_count": 29,
   "metadata": {},
   "outputs": [
    {
     "data": {
      "text/plain": [
       "(1743, 65536)"
      ]
     },
     "execution_count": 29,
     "metadata": {},
     "output_type": "execute_result"
    }
   ],
   "source": [
    "features.shape"
   ]
  },
  {
   "cell_type": "markdown",
   "metadata": {},
   "source": [
    "## Elbow Method"
   ]
  },
  {
   "cell_type": "code",
   "execution_count": 112,
   "metadata": {},
   "outputs": [
    {
     "name": "stdout",
     "output_type": "stream",
     "text": [
      "0.1\n",
      "0.2\n",
      "0.3\n",
      "0.4\n",
      "0.5\n",
      "0.6\n",
      "0.7\n",
      "0.8\n",
      "0.9\n",
      "1.0\n"
     ]
    },
    {
     "data": {
      "text/plain": [
       "[<matplotlib.lines.Line2D at 0x65bd91cc0>]"
      ]
     },
     "execution_count": 112,
     "metadata": {},
     "output_type": "execute_result"
    },
    {
     "data": {
      "image/png": "[encoded data removed]",
      "text/plain": [
       "<Figure size 432x288 with 1 Axes>"
      ]
     },
     "metadata": {},
     "output_type": "display_data"
    }
   ],
   "source": [
    "wcss = []\n",
    "for i in tqdm(range(1,11)):\n",
    "    kmeans = KMeans(i,init='k-means++')\n",
    "    kmeans.fit(features)\n",
    "    wcss.append(kmeans.inertia_)\n",
    "plt.plot(range(1,11),wcss)"
   ]
  },
  {
   "cell_type": "markdown",
   "metadata": {},
   "source": [
    "## Clustering"
   ]
  },
  {
   "cell_type": "code",
   "execution_count": 55,
   "metadata": {},
   "outputs": [],
   "source": [
    "kmeans = KMeans(6,init='k-means++')\n",
    "y_kmeans = kmeans.fit_predict(features)"
   ]
  },
  {
   "cell_type": "code",
   "execution_count": 91,
   "metadata": {},
   "outputs": [],
   "source": [
    "dict_time = {}"
   ]
  },
  {
   "cell_type": "code",
   "execution_count": 92,
   "metadata": {},
   "outputs": [],
   "source": [
    "unique,counts = np.unique(y_kmeans,return_counts=True)\n",
    "dict_time = dict(zip(unique,counts))"
   ]
  },
  {
   "cell_type": "code",
   "execution_count": 93,
   "metadata": {},
   "outputs": [
    {
     "data": {
      "text/plain": [
       "{0: 291, 1: 296, 2: 371, 3: 15, 4: 427, 5: 343}"
      ]
     },
     "execution_count": 93,
     "metadata": {},
     "output_type": "execute_result"
    }
   ],
   "source": [
    "dict_time"
   ]
  },
  {
   "cell_type": "markdown",
   "metadata": {},
   "source": [
    "## SVM"
   ]
  },
  {
   "cell_type": "code",
   "execution_count": null,
   "metadata": {},
   "outputs": [],
   "source": [
    "t_j = 0\n",
    "j = 0\n",
    "x_svm = []\n",
    "y_svm = []\n",
    "for subdirs,dirs,files in os.walk(data_folder+'dev-clean/Spectrograms'):\n",
    "    t_j+=1\n",
    "for subdirs,dirs,files in os.walk(data_folder+'dev-clean/Spectrograms'):\n",
    "    for file in files:\n",
    "        if file.endswith('.png'):\n",
    "            image = cv2.imread(subdirs+'/'+file)\n",
    "            image = cv2.resize(image,(im_size,im_size))\n",
    "            image = np.expand_dims(image,axis=0)\n",
    "            x_svm.append(model2.predict(image))\n",
    "            y_svm.append(dict_y.get(int(subdirs.split('/')[-1][:-4])))\n",
    "    j+=1\n",
    "#     print(float(j)/t_j*100)"
   ]
  },
  {
   "cell_type": "code",
   "execution_count": 37,
   "metadata": {},
   "outputs": [],
   "source": [
    "x_svm2 = x_svm\n",
    "y_svm2 = y_svm"
   ]
  },
  {
   "cell_type": "code",
   "execution_count": 38,
   "metadata": {},
   "outputs": [],
   "source": [
    "x_svm = []\n",
    "y_svm = []\n",
    "test_indices = random.sample(range(len(x_svm2)),1000)\n",
    "for i in test_indices:\n",
    "    x_svm.append(x_svm2[i])\n",
    "    y_svm.append(y_svm2[i])"
   ]
  },
  {
   "cell_type": "code",
   "execution_count": 39,
   "metadata": {},
   "outputs": [],
   "source": [
    "x_svm = np.array(x_svm).reshape(len(x_svm),-1)\n",
    "y_svm = np.array(y_svm).reshape(len(y_svm),-1)"
   ]
  },
  {
   "cell_type": "code",
   "execution_count": 40,
   "metadata": {},
   "outputs": [
    {
     "data": {
      "text/plain": [
       "(1000, 65536)"
      ]
     },
     "execution_count": 40,
     "metadata": {},
     "output_type": "execute_result"
    }
   ],
   "source": [
    "x_svm.shape"
   ]
  },
  {
   "cell_type": "code",
   "execution_count": 42,
   "metadata": {},
   "outputs": [],
   "source": [
    "x_svm_train,x_svm_test,y_svm_train,y_svm_test = train_test_split(x_svm,y_svm,test_size=0.2)"
   ]
  },
  {
   "cell_type": "code",
   "execution_count": 44,
   "metadata": {},
   "outputs": [],
   "source": [
    "sc =  StandardScaler()\n",
    "x_svm_train = sc.fit_transform(x_svm_train)\n",
    "x_svm_test = sc.transform(x_svm_test)"
   ]
  },
  {
   "cell_type": "code",
   "execution_count": 46,
   "metadata": {},
   "outputs": [],
   "source": [
    "svm = SVC(kernel='rbf')"
   ]
  },
  {
   "cell_type": "code",
   "execution_count": 47,
   "metadata": {},
   "outputs": [
    {
     "name": "stderr",
     "output_type": "stream",
     "text": [
      "/usr/local/lib/python3.7/site-packages/sklearn/utils/validation.py:761: DataConversionWarning: A column-vector y was passed when a 1d array was expected. Please change the shape of y to (n_samples, ), for example using ravel().\n",
      "  y = column_or_1d(y, warn=True)\n",
      "/usr/local/lib/python3.7/site-packages/sklearn/svm/base.py:196: FutureWarning: The default value of gamma will change from 'auto' to 'scale' in version 0.22 to account better for unscaled features. Set gamma explicitly to 'auto' or 'scale' to avoid this warning.\n",
      "  \"avoid this warning.\", FutureWarning)\n"
     ]
    },
    {
     "data": {
      "text/plain": [
       "SVC(C=1.0, cache_size=200, class_weight=None, coef0=0.0,\n",
       "  decision_function_shape='ovr', degree=3, gamma='auto_deprecated',\n",
       "  kernel='rbf', max_iter=-1, probability=False, random_state=None,\n",
       "  shrinking=True, tol=0.001, verbose=False)"
      ]
     },
     "execution_count": 47,
     "metadata": {},
     "output_type": "execute_result"
    }
   ],
   "source": [
    "svm.fit(x_svm_train,y_svm_train)"
   ]
  },
  {
   "cell_type": "code",
   "execution_count": 48,
   "metadata": {},
   "outputs": [],
   "source": [
    "y_svm_pred = svm.predict(x_svm_test)"
   ]
  },
  {
   "cell_type": "code",
   "execution_count": 49,
   "metadata": {},
   "outputs": [],
   "source": [
    "from sklearn.metrics import confusion_matrix"
   ]
  },
  {
   "cell_type": "code",
   "execution_count": 50,
   "metadata": {},
   "outputs": [],
   "source": [
    "cm = confusion_matrix(y_svm_test,y_svm_pred)"
   ]
  },
  {
   "cell_type": "code",
   "execution_count": 51,
   "metadata": {},
   "outputs": [
    {
     "data": {
      "text/plain": [
       "array([[67, 35],\n",
       "       [34, 64]])"
      ]
     },
     "execution_count": 51,
     "metadata": {},
     "output_type": "execute_result"
    }
   ],
   "source": [
    "cm"
   ]
  },
  {
   "cell_type": "code",
   "execution_count": 52,
   "metadata": {},
   "outputs": [],
   "source": [
    "y_svm_pred = svm.predict(features)"
   ]
  },
  {
   "cell_type": "code",
   "execution_count": 76,
   "metadata": {},
   "outputs": [
    {
     "data": {
      "text/plain": [
       "(1743,)"
      ]
     },
     "execution_count": 76,
     "metadata": {},
     "output_type": "execute_result"
    }
   ],
   "source": [
    "y_svm_pred.shape"
   ]
  },
  {
   "cell_type": "code",
   "execution_count": 56,
   "metadata": {},
   "outputs": [
    {
     "name": "stdout",
     "output_type": "stream",
     "text": [
      "[0 0 0 ... 0 0 0] [3 3 3 ... 3 3 3]\n"
     ]
    }
   ],
   "source": [
    "print(y_svm_pred,y_kmeans)"
   ]
  },
  {
   "cell_type": "code",
   "execution_count": 89,
   "metadata": {},
   "outputs": [],
   "source": [
    "dict_gender = {}\n",
    "for i in range(6):\n",
    "    for j in range(len(y_kmeans)):\n",
    "        c1 = 0\n",
    "        c2 = 0\n",
    "        if(y_kmeans[j]==i):\n",
    "            c1 += 1\n",
    "            c2 += y_svm_pred[i]\n",
    "        if(c1!=0):\n",
    "            dict_gender[i] = 1 if(float(c2)/c1>0.5) else 0\n",
    "            "
   ]
  },
  {
   "cell_type": "code",
   "execution_count": null,
   "metadata": {},
   "outputs": [],
   "source": [
    "dict_gender"
   ]
  },
  {
   "cell_type": "code",
   "execution_count": 94,
   "metadata": {},
   "outputs": [
    {
     "data": {
      "text/plain": [
       "{0: 291, 1: 296, 2: 371, 3: 15, 4: 427, 5: 343}"
      ]
     },
     "execution_count": 94,
     "metadata": {},
     "output_type": "execute_result"
    }
   ],
   "source": [
    "dict_time"
   ]
  },
  {
   "cell_type": "code",
   "execution_count": null,
   "metadata": {},
   "outputs": [],
   "source": []
  }
 ],
 "metadata": {
  "kernelspec": {
   "display_name": "Python 3",
   "language": "python",
   "name": "python3"
  },
  "language_info": {
   "codemirror_mode": {
    "name": "ipython",
    "version": 3
   },
   "file_extension": ".py",
   "mimetype": "text/x-python",
   "name": "python",
   "nbconvert_exporter": "python",
   "pygments_lexer": "ipython3",
   "version": "3.7.0"
  }
 },
 "nbformat": 4,
 "nbformat_minor": 2
}
